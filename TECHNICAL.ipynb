{
 "cells": [
  {
   "cell_type": "code",
   "execution_count": null,
   "id": "9b8f4819-5479-438c-83e5-2fbdc94e7ad8",
   "metadata": {},
   "outputs": [],
   "source": [
    "# 1 Unique Elements in a list"
   ]
  },
  {
   "cell_type": "markdown",
   "id": "8f05fa39-78ae-4c75-93a7-f330ec99a7cb",
   "metadata": {},
   "source": [
    "def unique(s):\n",
    "    str=input(s)\n",
    "\n",
    "    print(int(s))\n",
    "    print(list s for s in the sublist)\n",
    "    "
   ]
  },
  {
   "cell_type": "code",
   "execution_count": null,
   "id": "5c5dd1a3-d291-4e24-9be7-feab82003533",
   "metadata": {},
   "outputs": [],
   "source": [
    "unique([4,5,9,4,9,8])"
   ]
  },
  {
   "cell_type": "code",
   "execution_count": null,
   "id": "f12c7ba2-5e78-4f2b-8753-899272853c85",
   "metadata": {},
   "outputs": [],
   "source": [
    "# Balanced Bracket Validator"
   ]
  },
  {
   "cell_type": "code",
   "execution_count": 60,
   "id": "2310fdc3-bcc9-47ae-ade5-15e17c7231ff",
   "metadata": {},
   "outputs": [],
   "source": []
  },
  {
   "cell_type": "code",
   "execution_count": 123,
   "id": "e1557177-3c29-4ec1-8e9c-ddf4419fe857",
   "metadata": {},
   "outputs": [
    {
     "name": "stdout",
     "output_type": "stream",
     "text": [
      "True\n",
      "False\n"
     ]
    }
   ],
   "source": [
    "def is_balanced(s):\n",
    "    stack = []\n",
    "    pair = {')': '(', ']': '[', '}': '{'}\n",
    "    for ch in s:\n",
    "        if ch in \"([{\":\n",
    "            stack.append(ch)\n",
    "        elif ch in \")]}\":\n",
    "            if not stack or stack.pop() != pair[ch]:\n",
    "                return False\n",
    "    return not stack\n",
    "\n",
    "print(is_balanced(\"([{}])\"))\n",
    "print(is_balanced(\"([)]\"))"
   ]
  },
  {
   "cell_type": "code",
   "execution_count": null,
   "id": "b2019a0a-c526-43f2-949f-af7769f86b72",
   "metadata": {},
   "outputs": [],
   "source": []
  },
  {
   "cell_type": "code",
   "execution_count": null,
   "id": "9d068550-c5f8-41a8-b2bb-0c1de1459f0b",
   "metadata": {},
   "outputs": [],
   "source": [
    "# longest Consecutive Sequence"
   ]
  },
  {
   "cell_type": "code",
   "execution_count": 121,
   "id": "8cac0557-c7b8-47d6-8d5d-5c3e636c24b2",
   "metadata": {},
   "outputs": [
    {
     "name": "stdout",
     "output_type": "stream",
     "text": [
      "4\n"
     ]
    }
   ],
   "source": [
    "def longest_consecutive(nums):\n",
    "    num_set = set(nums)\n",
    "    max_len = 0\n",
    "    for n in nums:\n",
    "        if n - 1 not in num_set:\n",
    "            length = 1\n",
    "            while n + length in num_set:\n",
    "                length += 1\n",
    "            max_len = max(max_len, length)\n",
    "    \n",
    "    return max_len\n",
    "print(longest_consecutive([100, 4, 200, 1, 3, 2]))\n"
   ]
  },
  {
   "cell_type": "code",
   "execution_count": null,
   "id": "023f7e9d-f56b-4af4-89ff-809a106f9274",
   "metadata": {},
   "outputs": [],
   "source": []
  },
  {
   "cell_type": "code",
   "execution_count": null,
   "id": "2c04d676-c4c9-4f91-ab33-2de6f3c4695f",
   "metadata": {},
   "outputs": [],
   "source": [
    "# Word Ladder Transformation"
   ]
  },
  {
   "cell_type": "code",
   "execution_count": null,
   "id": "dc9e2c5e-0f28-4519-bc28-8de159b1acf1",
   "metadata": {},
   "outputs": [],
   "source": [
    "def ladder(s, e)\n",
    "  print(char(input [\"hit\",\"dot\", \"dog\", \"lot\", \"log\", \"cog\"]\n",
    "         print(\"enter elements of dictionary\")\n",
    "            "
   ]
  },
  {
   "cell_type": "code",
   "execution_count": null,
   "id": "024f03fd-56fb-49ce-ba55-0f08bb24f7c6",
   "metadata": {},
   "outputs": [],
   "source": []
  }
 ],
 "metadata": {
  "kernelspec": {
   "display_name": "Python [conda env:base] *",
   "language": "python",
   "name": "conda-base-py"
  },
  "language_info": {
   "codemirror_mode": {
    "name": "ipython",
    "version": 3
   },
   "file_extension": ".py",
   "mimetype": "text/x-python",
   "name": "python",
   "nbconvert_exporter": "python",
   "pygments_lexer": "ipython3",
   "version": "3.12.7"
  }
 },
 "nbformat": 4,
 "nbformat_minor": 5
}
